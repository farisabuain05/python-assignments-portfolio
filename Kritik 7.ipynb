{
 "cells": [
  {
   "cell_type": "code",
   "execution_count": 20,
   "id": "97d35694",
   "metadata": {},
   "outputs": [],
   "source": [
    "## Kritik Assignment no. 7!!"
   ]
  },
  {
   "cell_type": "code",
   "execution_count": 21,
   "id": "9e0382f9",
   "metadata": {},
   "outputs": [
    {
     "name": "stdout",
     "output_type": "stream",
     "text": [
      "(82.382, 10.193467189005581)\n"
     ]
    }
   ],
   "source": [
    "t_scores = [92.64,79.00,84.79,97.41,93.68,65.23,84.50,73.49,73.97,79.11] # test scores\n",
    "\n",
    "def mean_std(data):\n",
    "    '''\n",
    "    Based on a given set of data, this function calculates the mean value, as well\n",
    "    as the standard deviation.\n",
    "    '''\n",
    "    sum_0 = 0 #intialize (for mean)\n",
    "    sum_std = 0 #initialize (for std dev)\n",
    "    \n",
    "    for i in range(len(data)):\n",
    "        sum_0 += data[i]\n",
    "    mean = sum_0 / len(data) # mean\n",
    "    \n",
    "    for i in range(len(data)):\n",
    "        sum_std += (data[i] - mean)**2\n",
    "    std = np.sqrt((1/(len(data)-1))*sum_std) # std deviation\n",
    "    \n",
    "    return mean, std\n",
    "    \n",
    "print(mean_std(t_scores)) # based on this, average test score is 82.382% +/- 10.193%"
   ]
  },
  {
   "cell_type": "code",
   "execution_count": 22,
   "id": "bf1a3219",
   "metadata": {},
   "outputs": [
    {
     "name": "stdout",
     "output_type": "stream",
     "text": [
      "2.290087686017293\n"
     ]
    }
   ],
   "source": [
    "def t_0(mu, data):\n",
    "    '''\n",
    "    Calculates t0 for a set of data, based on a given µ value and a mean value \n",
    "    (calculacted using the function from the previous cell).\n",
    "    '''\n",
    "    t0 = ((mean_std(data)[0])-mu)/((mean_std(data)[1])/np.sqrt(len(data)))\n",
    "    return t0\n",
    "    \n",
    "print(t_0(75, t_scores)) ## null hypothesis: mu = 75"
   ]
  },
  {
   "cell_type": "code",
   "execution_count": 23,
   "id": "dc69bf81",
   "metadata": {},
   "outputs": [
    {
     "name": "stdout",
     "output_type": "stream",
     "text": [
      "2.1821821821821823\n"
     ]
    }
   ],
   "source": [
    "def find_t_star(prob, nu, x_start=0, x_end=20, num_points=10000):\n",
    "    \"\"\"\n",
    "    Find the t-value t* for a given cumulative probability\n",
    "    and degrees of freedom.\n",
    "    Parameters:\n",
    "    prob (float): The cumulative probability (between 0 and 1).\n",
    "    nu (int): The degrees of freedom of the t-distribution.\n",
    "    x_start (float): The start point for numerical integration.\n",
    "    x_end (float): The end point for numerical integration.\n",
    "    20 will almost always be big enough.\n",
    "    num_points (int): The number of points to use in\n",
    "    the numerical integration.\n",
    "    Returns:\n",
    "    float: The t-value t* such that the area between [-t*, t*]\n",
    "    equals the given probability.\n",
    "    \"\"\"\n",
    "    \n",
    "    # Define the x values\n",
    "    x = np.linspace(x_start, x_end, num_points)\n",
    "    \n",
    "    # Apply the density function to the x values\n",
    "    y = t_distribution_pdf(x, nu)\n",
    "    \n",
    "    # This next line is the integration (exercise: why does this work?)\n",
    "    cdf = np.cumsum(y) * (x[1] - x[0])\n",
    "    \n",
    "    # Find the t-value where the cumulative probability reaches half of the\n",
    "    #required probability\n",
    "    target_half_prob = prob / 2\n",
    "    index = np.where(cdf >= target_half_prob)[0][0]\n",
    "    \n",
    "    return x[index]\n",
    "\n",
    "print(find_t_star(0.95, 9, x_start=0, x_end=20, num_points=1000)) \n",
    "# prob is 0.95 (based on the 95% confidence interval)\n",
    "# nu is n-1: 10 data points, so nu = 9\n"
   ]
  },
  {
   "cell_type": "code",
   "execution_count": 24,
   "id": "2c0011cb",
   "metadata": {},
   "outputs": [
    {
     "name": "stdout",
     "output_type": "stream",
     "text": [
      "False\n"
     ]
    }
   ],
   "source": [
    "def true_false_det(mu, data):\n",
    "    '''\n",
    "    This functions purpose is to determine whether t0 is on the interval of [-t*, t*]. This is done by comparing\n",
    "    the absolute value of t0 to t*. If the absolute value is greater than t*, that means that t0 is not located\n",
    "    on the interval, and is either < -t* or > t*.\n",
    "    '''\n",
    "    t0_ = t_0(mu, data) # calculates t0 based on function from second cell\n",
    "    t_star_ = find_t_star(0.95, 9, x_start=0, x_end=20, num_points=1000) # calculates t* based on function from third cell\n",
    "    if abs(t0_) > t_star_:\n",
    "        return \"False\"\n",
    "    else:\n",
    "        return \"True\"\n",
    "    \n",
    "print(true_false_det(75, t_scores)) ## based on mu=75 (predicted / national average) and our set of test scores\n",
    "\n",
    "## Tells us that these test scores are different from the national average, in a\n",
    "## statistically significant way."
   ]
  },
  {
   "cell_type": "code",
   "execution_count": 25,
   "id": "8d08978c",
   "metadata": {},
   "outputs": [
    {
     "data": {
      "text/plain": [
       "'\\n\\nFor the data given in the scenario, apply your homebrew t-test. What\\nis your conclusion? Can we conclude µ = 75? Based on the value of\\nt0, would you say that the statistical evidence suggests that the new\\nteaching techniques is beneficial, or detrimental?\\n\\n'"
      ]
     },
     "execution_count": 25,
     "metadata": {},
     "output_type": "execute_result"
    }
   ],
   "source": [
    "'''\n",
    "\n",
    "For the data given in the scenario, apply your homebrew t-test. What\n",
    "is your conclusion? Can we conclude µ = 75? Based on the value of\n",
    "t0, would you say that the statistical evidence suggests that the new\n",
    "teaching techniques is beneficial, or detrimental?\n",
    "\n",
    "'''\n",
    "\n",
    "## My response: Based on the above t-test, we can conclude that µ =/= 75. In other words,\n",
    "## the null hypothesis is incorrect and, as the researcher expected, the average for the \n",
    "## students taught using his new teaching technique is significantly different than the\n",
    "## national average. Based on the value of t0, which is higher than t*, we can conclude\n",
    "## that the averages for students taught with this new technique are *higher* than the \n",
    "## national average. Thus the technique is beneficial, and should be implemented. \n",
    "\n"
   ]
  },
  {
   "cell_type": "code",
   "execution_count": null,
   "id": "660da5f4",
   "metadata": {},
   "outputs": [],
   "source": []
  }
 ],
 "metadata": {
  "kernelspec": {
   "display_name": "Python 3 (ipykernel)",
   "language": "python",
   "name": "python3"
  },
  "language_info": {
   "codemirror_mode": {
    "name": "ipython",
    "version": 3
   },
   "file_extension": ".py",
   "mimetype": "text/x-python",
   "name": "python",
   "nbconvert_exporter": "python",
   "pygments_lexer": "ipython3",
   "version": "3.11.4"
  }
 },
 "nbformat": 4,
 "nbformat_minor": 5
}
